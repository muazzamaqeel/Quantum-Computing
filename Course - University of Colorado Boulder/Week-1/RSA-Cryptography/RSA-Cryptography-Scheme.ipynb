{
 "cells": [
  {
   "cell_type": "markdown",
   "metadata": {},
   "source": [
    "# RSA Cryptosystem\n",
    "\n",
    "RSA stand for Rivest-Shamir-Adleman, the names of three famous computer scientists who invented the system for encrypting and decryting secret messages. The cryptosystem was discovered first by Clifford Cocks, a British mathematician. But his discovery was held as a classified state secret by the British government. \n",
    "\n",
    "\n",
    "RSA is a _public key_ cryptosystem that can encrypt and decrypt messages that one wishes to transmit across a channel. In a public key system, a user has two types of passwords or keys.\n",
    "  - Public Key: $p$ is a key (or passphrase) that is announced to everyone in the world. Imagine a centralized registry where I can look up your public key or anyone else's for that matter.\n",
    "  - Private/Secret Key: $s$ is a key (or passphrase) that is held secret by the user.  This key is never revealed to anyone. In fact, doing so will allow them to retrieve your secrets.\n",
    "  \n",
    "The idea is that if one encrypts a message using a public key, they can decrypt it with the private key or vice-versa. In other words, for any message $m$, if we encrypt it with the public key\n",
    "\n",
    "$$ \\mathsf{encrypt}(m, p) = m' $$ \n",
    "\n",
    "then it can be decrypted using the secret key\n",
    "\n",
    "$$ \\mathsf{decrypt}(m', s) = m$$.\n",
    "\n",
    "In fact, this is how Alice sends a message $m$ to Bob that she does not want to reveal to anyone else:\n",
    "  - Alice looks up Bob's public key from the registry: $p$.\n",
    "  - She encrypts the message : $\\mathsf{encrypt}(m, p) = m'$\n",
    "  - She sends it to Bob who can decrypt it with his secret key (that is known only to him): $\\mathsf{decrypt}(m', s) = m$.\n",
    "  \n",
    "However, there is a potential problem with this. Anyone can impersonate Alice and send a message in her name since they simply need to look up Bob's public key. How does Bob know that the message $m$ came from Alice and no one else?\n",
    "   -  Alice prepares a special message ($A$) \"This is an authentic message from Alice meant for Bob on Wed, Feb 14th and 1:28PM and the hash value of the message is 0xFA109091AB\" and signs it with her secret key $s_A$. $A' = \\mathsf{encrypt}(A, s_A)$.\n",
    "   -  Alice appends the message $A'$ to her original message $M$.\n",
    "   - She then proceeds to sign this with Bob's public key and send it to Bob.\n",
    "   - Bob decrypts the message $M + A'$. \n",
    "   - To know that the message came from Alice, Bob decrypts the special encrypted part using Alice's public key: $A = \\mathsf{decrypt}(A', p_A)$. Looking at $A$, Bob knows that it could have only come from Alice, since whoever signed $A'$ must have possessed Alice's private key. \n",
    "      - Also by verifying details of the message (time, hash value) in the signature, Bob knows that Alice created this signature just for the message she sent to him. I.e, Charlie did not attach Alice's signature from a message she sent him to impersonate her to Bob.\n",
    "   \n",
    "The ideas behind public key cryptosystems enable a lot of modern Internet commerce from securely transmitting credit card information to authenticating messages so that we know who sent the message. \n",
    "\n",
    "The most popular public key cryptosystem is the RSA cryptosystem. It is based on number, particularly properties of GCD, prime numbers and the difficulty of solving certain problems involving numbers. We will understand it now.\n"
   ]
  },
  {
   "cell_type": "markdown",
   "metadata": {},
   "source": [
    "## Messages Encoded as Numbers\n",
    "\n",
    "First, we will convert the problem of encrypting/decrypting messages in terms of operations over numbers. To do this, we have to code up messages (plain text) into a sequence of numbers that are interconvertible to the messages. One simple way to do this is to convert a given message string  as a sequence of characters using the ascii code into a bunch of numbers. \n",
    "\n",
    "Here are a couple of useful functions to convert a sequence of numbers into strings. We can also integrate some sort of \"salt\", scramble the message in some order to prevent some attacks based on frequency analysis and known/common ciphertexts but that is beyond the scope of this lecture. "
   ]
  },
  {
   "cell_type": "code",
   "execution_count": 4,
   "metadata": {
    "ExecuteTime": {
     "end_time": "2024-02-06T23:17:10.655445Z",
     "start_time": "2024-02-06T23:17:10.649926Z"
    }
   },
   "outputs": [],
   "source": [
    "# given a string s, convert it into a sequence of numbers.\n",
    "# It works by taking a \"block length\" of 5 characters and encoding the ascii values as a \n",
    "# number in the base q number sytem.\n",
    "# We take q = 101 by default.\n",
    "# We convert these base-q numbers into decimals.\n",
    "def convert_string_to_numbers(s, q=101 ):\n",
    "    # we hard code a block length of 5 for this function\n",
    "    lst = [*s] # unpack string into a list\n",
    "    n = len(lst)\n",
    "    assert n > 0, 'Nonempty string required'\n",
    "    # ord(c) for a character c provides us its ascii value\n",
    "    assert all( 32 <= ord(c) <= 126 for c in lst), 'String must have alpha numeric and space characters.'\n",
    "    # pad the string with a special char so that n is a multiple of block length\n",
    "    r = 0 if n%5 == 0 else 5 - (n%5)\n",
    "    # chr(31) is a null character that we use to pad the message to make its size a multiple of the block length (5)\n",
    "    lst += [chr(31)]*r # pad it wwith a special character ascii 31\n",
    "    n = len(lst) \n",
    "    assert n%5 == 0\n",
    "    msg = []\n",
    "    # run through the characters 5 at a time\n",
    "    for i in range(0, n, 5):\n",
    "        block = lst[i:i+5]\n",
    "        c = [ord(k)-31 for k in block] # subtract 31 from ascii values\n",
    "        m = 0\n",
    "        for i in range(4, -1, -1): # convert from base-q to decimal\n",
    "            m = m * q + c[i]\n",
    "        msg.append(m) # append number to message\n",
    "    return msg"
   ]
  },
  {
   "cell_type": "code",
   "execution_count": 5,
   "metadata": {
    "ExecuteTime": {
     "end_time": "2024-02-06T23:17:11.090651Z",
     "start_time": "2024-02-06T23:17:11.086030Z"
    }
   },
   "outputs": [
    {
     "name": "stdout",
     "output_type": "stream",
     "text": [
      "8404957845\n",
      "7776548846\n",
      "191360744\n",
      "8813990599\n",
      "176922693\n",
      "192316710\n",
      "8812885672\n",
      "6973901834\n",
      "7158215288\n",
      "279932690\n",
      "2\n"
     ]
    }
   ],
   "source": [
    "msg = convert_string_to_numbers('Hello, this is a message that needs to be encoded!!')\n",
    "for j in msg:\n",
    "    print(j)"
   ]
  },
  {
   "cell_type": "code",
   "execution_count": 6,
   "metadata": {
    "ExecuteTime": {
     "end_time": "2024-02-06T23:17:11.598070Z",
     "start_time": "2024-02-06T23:17:11.593724Z"
    }
   },
   "outputs": [],
   "source": [
    "# this function inverts the process from the function for converting string to numbers\n",
    "def convert_numbers_to_strings(msg, q=101 ):\n",
    "    n = len(msg)\n",
    "    assert n > 0, 'Nonempty list of numbers required'\n",
    "    blk_len = 5 # hard coded block length\n",
    "    codes = []\n",
    "    for k in msg: # each number is a decimal representation of a 5 digit base q number\n",
    "        for i in range(5): # convert it back into base q\n",
    "            r = k%q\n",
    "            if r >= 1:\n",
    "                codes.append(chr(r + 31)) # convert from ascii back into character but add 31\n",
    "            k = k//q\n",
    "    # convert from sequence of chars back into a string\n",
    "    return ''.join(codes)\n",
    "    "
   ]
  },
  {
   "cell_type": "code",
   "execution_count": 7,
   "metadata": {
    "ExecuteTime": {
     "end_time": "2024-02-06T23:17:12.477669Z",
     "start_time": "2024-02-06T23:17:12.473780Z"
    }
   },
   "outputs": [
    {
     "data": {
      "text/plain": [
       "'Hello, this is a message that needs to be encoded!!'"
      ]
     },
     "execution_count": 7,
     "metadata": {},
     "output_type": "execute_result"
    }
   ],
   "source": [
    "convert_numbers_to_strings(msg)"
   ]
  },
  {
   "cell_type": "markdown",
   "metadata": {},
   "source": [
    "###### Basics of RSA\n",
    "\n",
    "RSA uses modular arithmetic to encrypt/decrypt messages. \n",
    "  - Messages are natural numbers.\n",
    "  - The public key is a pair of natural numbers $(e, n)$.\n",
    "  - The private key is a pair of natural numbers $(d, n)$.\n",
    "  - $e, d $ and $n$ will be _large numbers_. Typically, in the order of $2^{1024}$ or $2^{2048}$. These will be roughly 400 - 700 digit numbers. \n",
    "\n",
    "We will see soon what the properties of these keys will be soon. \n",
    "\n",
    "The encryption function is given by \n",
    "\n",
    "$$\\mathsf{encrypt}(M, (e, n)) = M^e \\bmod n$$\n",
    "\n",
    "The decryption function is the same as encryption:\n",
    "\n",
    "$$\\mathsf{decrypt}(M, (d, n)) = M^d \\bmod n$$\n",
    "\n",
    "\n",
    "<div class=\"alert alert-block alert-info\">\n",
    "    <b> Requirement: </b> Decryption after encryption yields the original message back. Therefore, we will choose $e, d$ and $n$ so that \n",
    "\n",
    "$$ \\mathsf{decrypt}( \\mathsf{encrypt}(M, (e, n) ), (d, n) ) = (M^{e} \\bmod n)^d \\bmod n = M^{e \\times d} \\bmod n  = M \\,.$$\n",
    "</div>\n",
    "\n",
    "\n",
    "Also, there is an added complication that constrains how we choose $e$ and $d$.\n",
    "\n",
    "<div class=\"alert alert-block alert-info\">\n",
    "    <b> Requirement: </b> Everyone knows the public key $(e, n)$ whereas only the user knows the secret $(d, n)$. Someone who knows $e, n$  will find it very hard to work out the value of $d$.\n",
    "</div>\n",
    "\n",
    "\n",
    "\n",
    "To compute, $e, d$ satisfying the two requirements we will use a result from Euler from 1763 as a generalization of Fermat's little theorem.\n",
    "\n",
    "<div class=\"alert alert-block alert-info\">\n",
    "    Let $n$ be a natural number. It's Euler Totient function $\\varphi(n)$ is defined as the number of natural numbers $ < n$ that are relatively prime to $n$.\n",
    "</div>\n",
    "\n",
    "Recall that two natural numbers $a, b$ are relatively prime iff they have no prime factors in common, or in other words $GCD(a,b) =1$.\n",
    "\n",
    "#### Examples \n",
    "\n",
    "For instance, let $n = 49$.  The set of numbers relatively prime to $n$ is the difference of the two sets $\\{ 1, 2, \\ldots, 49 \\}  \\setminus \\{ 7, 14, 21, 28, 35, 42, 49 \\}$. The latter includes every number that is not relatively prime to $49$. Therefore $\\varphi(49) = 42 $.\n",
    "\n",
    "\n",
    "Suppose $n = 15$, the numbers relatively prime to $15$ are $\\{1, 2, 4, 7, 8, 11, 13, 14 \\}$. Therefore, $\\varphi(15) = 8$.\n",
    "\n",
    "For any prime number $p$, $\\varphi(p) = p -1$.\n",
    "\n",
    "For any number $n$ which is the product of two primes $n = p \\times q$ where $p \\not= q$, we have \n",
    "$\\varphi(n) = (p-1) (q-1)$. This is because, amongst the numbers $\\{1, \\ldots, n\\}$ the set numbers that are __not__ relatively prime to $n$ include $\\{p, \\ldots, (q-1)p, q, \\ldots, (p-1)q , pq \\}$. Thus, $p + q - 1$ numbers are __not__ relatively prime. Hence, $pq - p - q + 1 = (p-1)(q-1)$ numbers are relatively prime.\n",
    "\n",
    "### Euler's Theorem \n",
    "\n",
    "<div class=\"alert alert-block alert-warning\">\n",
    "Let $n$ be a natural number and $a$ be relatively prime to $n$. Then $a^{\\varphi(n)}\\mod n = 1$.\n",
    "</div>\n",
    "\n",
    "**Proof** Let $k = \\varphi(n)$ and $S = \\{ a_1, \\ldots, a_k \\}$ be the set of all numbers relatively prime to $n$. Note that $|S| = \\varphi(n) = k$ and $a \\in S$.  Consider the set \n",
    "$$S' = \\{ a a_1 \\bmod n,\\ a a_2 \\bmod n,\\ \\cdots,\\ a a_k \\bmod n \\}\\,.$$\n",
    "\n",
    "Note that $S = S'$: (a) every element of $S'$ continues to be relatively prime with $n$ and therefore, $S' \\subseteq S$, (b) for any two distinct elements $a_i, a_j$, $a a_i \\mod n \\not= a a_j \\bmod n $. Therefore, $|S| = |S'|$. \n",
    "Combining, we have $ S = S'$.\n",
    "\n",
    "Therefore, multiplying all elements of $S$ and $S'$, we have \n",
    "$$ a_1 a_2 \\cdots a_k \\bmod n = aa_1 a a_2 \\cdots a a_k \\bmod n = a^{\\varphi(n)} a_1 a_2 \\cdots a_k \\bmod n \\,.$$\n",
    "Since $a, a_1, \\ldots, a_k$ are all relatively prime w.r.t n, we have $a^{\\varphi(n)} \\bmod n = 1 \\bmod n$.  __QED__\n",
    "\n",
    "## Designing the RSA Cryptography Scheme (Take 2)\n",
    "\n",
    "Let's get back to designing the RSA cryptography scheme. \n",
    "  - Pick two (very) large prime numbers $p, q$. \n",
    "  - Let $n = p q$.\n",
    "  - Choose a number $2 \\leq e < \\varphi(n) $ that is relatively prime to $\\varphi(n)$.\n",
    "  - Since $e$ is relatively prime to $\\varphi(n)$, we have $GCD(e, \\varphi(n)) = 1$.\n",
    "      - By Bezout's theorem, we can find integers $d, v$ so that $ e \\times d - v \\varphi(n) = 1$.\n",
    "      - If $d$ comes out negative, we can always rewrite $d' = (\\varphi(n) + d)$ and $v' = (v+e)$ so that \n",
    "      $d' > 0$, $v' > 0$ and $e\\times d' - v' \\times \\varphi(n) =1$.\n",
    "  - Choose $(e, n)$ to be the public key and $(d, n)$ to be the private key.\n",
    "  - Carefully discard/forget the numbers $p, q, \\varphi(n), v$ and just remember $e, d, n$.\n",
    "  - Disclose $(e, n)$ as the public key while keeping $(d,n)$ secret.\n",
    "  \n",
    " $e \\times d = v \\varphi(n) + 1$. \n",
    " \n",
    " Let $M$ be a message. For convenience, we assume $M$ is relatively prime with $n$ (this is not a great restriction: as we will see tha for large $n$, there are relatively _few numbers_ in the range $1, \\ldots, n$ that are __not__ relatively prime and the possibility that the message is one of them is very easy to avoid).\n",
    " \n",
    " We have $$\\mathsf{encrypt}(M, (e, n)) = M^e \\bmod n, \\;\\;\\;\\; \\mathsf{decrypt}(M, (d, n)) = M^d \\bmod n $$\n",
    " \n",
    " Combinbing, \n",
    " \n",
    " $$M^{ed} \\bmod n = M^{1 + v \\varphi(n)} \\bmod n = M \\bmod n \\times M^{v \\varphi(n)} \\mod n = M \\bmod n \\times 1  = M$$\n",
    " \n",
    "### Example\n",
    "\n",
    "Let us choose two prime numbers $n = 7 \\times 11 = 77$.\n",
    " - We have $\\varphi(n) = 60$.\n",
    " - Choose $e = 13$. We just find a number relatively prime with $60$.\n",
    " - We have $GCD(60, 13) = 1$ and the Bezout coefficients are $1 = - 23 \\times 13 + 5 \\times 60 $.\n",
    "    - $d$ comes out negative, so we write $1 =  (60 - 23) \\times 13 + (5 - 13) \\times 60$.\n",
    " - We choose $d = 37$ and $v = 8$.\n",
    " \n",
    "\n",
    "Take a message $M = 9$."
   ]
  },
  {
   "cell_type": "code",
   "execution_count": 8,
   "metadata": {
    "ExecuteTime": {
     "end_time": "2024-02-06T22:51:45.487607Z",
     "start_time": "2024-02-06T22:51:45.483854Z"
    }
   },
   "outputs": [],
   "source": [
    "def encrypt_naive(M, e, n): # \n",
    "    assert 2 <= M < n\n",
    "    p = 1\n",
    "    for i in range(e):\n",
    "        p = (p * M) % n\n",
    "    return p"
   ]
  },
  {
   "cell_type": "code",
   "execution_count": 9,
   "metadata": {
    "ExecuteTime": {
     "end_time": "2024-02-06T22:51:46.056870Z",
     "start_time": "2024-02-06T22:51:46.052888Z"
    }
   },
   "outputs": [
    {
     "data": {
      "text/plain": [
       "58"
      ]
     },
     "execution_count": 9,
     "metadata": {},
     "output_type": "execute_result"
    }
   ],
   "source": [
    "encrypt_naive(9, 13, 77) # encrypt 9 with the public key"
   ]
  },
  {
   "cell_type": "code",
   "execution_count": 10,
   "metadata": {
    "ExecuteTime": {
     "end_time": "2024-02-06T22:51:46.556421Z",
     "start_time": "2024-02-06T22:51:46.552501Z"
    }
   },
   "outputs": [
    {
     "data": {
      "text/plain": [
       "9"
      ]
     },
     "execution_count": 10,
     "metadata": {},
     "output_type": "execute_result"
    }
   ],
   "source": [
    "encrypt_naive(58, 37, 77) # decrypt 9 with the private key == decryption is same as encryption for RSA just with.a different key"
   ]
  },
  {
   "cell_type": "markdown",
   "metadata": {},
   "source": [
    "Here is the code to generate private and public keys."
   ]
  },
  {
   "cell_type": "code",
   "execution_count": 11,
   "metadata": {
    "ExecuteTime": {
     "end_time": "2024-02-06T23:07:47.723770Z",
     "start_time": "2024-02-06T23:07:47.717871Z"
    }
   },
   "outputs": [],
   "source": [
    "def extended_euclid(m, n, debug=False):\n",
    "    assert m >= 1 and n >= 0 and m >= n\n",
    "    m0, n0 = m, n # let's rememver the initial values\n",
    "    (s, t) = (1, 0)# m = s * m0 + t * n0\n",
    "    (s_hat, t_hat) = (0, 1) # n = s_hat * m0 + t_hat * n0\n",
    "    while n > 0:\n",
    "        assert m == s * m0 + t * n0\n",
    "        assert n == s_hat * m0 + t_hat * n0\n",
    "        q = m // n # compute the integer quotient \n",
    "        r = m % n # the reminder \n",
    "        # m = q * n + r, or alternatively, r = m - q * n = (s-q*s_hat) * m_0 + (t - q * t_hat)* n_0  \n",
    "        a, b = (s - q*s_hat, t - q * t_hat)\n",
    "        (m, n, s, t, s_hat, t_hat) = (n, r, s_hat, t_hat, a, b)\n",
    "        if debug:\n",
    "            print(f'GCD({m0}, {n0}) = GCD({m}, {n})')\n",
    "            print(f'\\t {m} = {s}*{m0} + {t} * {n0}')\n",
    "            print(f'\\t {n} = {s_hat}*{m0} + {t_hat} * {n0}')\n",
    "    return m, s, t\n",
    "        "
   ]
  },
  {
   "cell_type": "code",
   "execution_count": 12,
   "metadata": {
    "ExecuteTime": {
     "end_time": "2024-02-06T23:07:48.294222Z",
     "start_time": "2024-02-06T23:07:48.289699Z"
    }
   },
   "outputs": [],
   "source": [
    "from random import randint\n",
    "def generate_rsa_keys(p, q):\n",
    "    assert p < q\n",
    "    n = p * q\n",
    "    phi = (p-1)*(q-1)\n",
    "    e = None\n",
    "    d = None\n",
    "    for e in range(p//3, p):\n",
    "        (i, s, t) = extended_euclid(phi, e)\n",
    "        if i == 1:\n",
    "            if t < 0:\n",
    "                d = phi + t\n",
    "            else:\n",
    "                d = t\n",
    "            break\n",
    "    return (n, e, d)\n",
    "\n",
    "    \n",
    "    "
   ]
  },
  {
   "cell_type": "code",
   "execution_count": 13,
   "metadata": {
    "ExecuteTime": {
     "end_time": "2024-02-06T23:07:49.295970Z",
     "start_time": "2024-02-06T23:07:49.291356Z"
    }
   },
   "outputs": [
    {
     "data": {
      "text/plain": [
       "(91, 5, 29)"
      ]
     },
     "execution_count": 13,
     "metadata": {},
     "output_type": "execute_result"
    }
   ],
   "source": [
    "generate_rsa_keys(7, 13)"
   ]
  },
  {
   "cell_type": "markdown",
   "metadata": {},
   "source": [
    "The implementation of modular exponentiation is naive. It takes as much time as the number $e$ which can be very large. Thankfully, we can do modular exponentiation to calculate $M^e \\bmod n$ in time linear in $\\log(e)$, the number of bits in the number $e$.\n",
    "\n",
    "The idea is to view the bit representation of $e$ as \n",
    "$$ e = e_k e_{k-1} \\ldots e_0 = e_0 + 2 e_1 + 2^2 e_2 + \\cdots + 2^{k} e_k $$\n",
    "\n",
    "Therefore, $M^{e} = M^{e_k} M^{2e_1} \\cdots M^{2^i e_i} \\cdots M^{2^k e_k}$. \n",
    "\n",
    "We compute by repeated squaring, \n",
    "$$ M \\bmod n, M^2 \\bmod n, M^{2^2} \\bmod n, M^{2^3} \\bmod n, \\cdots $$\n",
    "\n",
    "If $e_i = 1$, then we multiply the final result by $M^{2^i}$."
   ]
  },
  {
   "cell_type": "code",
   "execution_count": 82,
   "metadata": {
    "ExecuteTime": {
     "end_time": "2024-02-06T23:16:30.777605Z",
     "start_time": "2024-02-06T23:16:30.774381Z"
    }
   },
   "outputs": [],
   "source": [
    "def modular_exp(M, e, n):\n",
    "    p = 1 # this is the final result\n",
    "    exp = M # this will be the exponent M^{2^i}\n",
    "    while e > 0:\n",
    "        b = e % 2 # extract least significant bit \n",
    "        if b == 1:\n",
    "            p = (p * exp)%n\n",
    "        exp = (exp * exp)%n # exp is now M^{2^{i+1}}\n",
    "        e = e // 2 # integer division\n",
    "    return p"
   ]
  },
  {
   "cell_type": "code",
   "execution_count": 83,
   "metadata": {
    "ExecuteTime": {
     "end_time": "2024-02-06T23:16:31.893508Z",
     "start_time": "2024-02-06T23:16:31.889535Z"
    }
   },
   "outputs": [
    {
     "data": {
      "text/plain": [
       "58"
      ]
     },
     "execution_count": 83,
     "metadata": {},
     "output_type": "execute_result"
    }
   ],
   "source": [
    "modular_exp(9, 13, 77) # encrypt 9 with the public key"
   ]
  },
  {
   "cell_type": "code",
   "execution_count": 84,
   "metadata": {
    "ExecuteTime": {
     "end_time": "2024-02-06T23:16:32.423177Z",
     "start_time": "2024-02-06T23:16:32.419601Z"
    }
   },
   "outputs": [
    {
     "data": {
      "text/plain": [
       "9"
      ]
     },
     "execution_count": 84,
     "metadata": {},
     "output_type": "execute_result"
    }
   ],
   "source": [
    "modular_exp(58, 37, 77) # encrypt 9 with the public key"
   ]
  },
  {
   "cell_type": "markdown",
   "metadata": {},
   "source": [
    "Note that our messages are roughly 10 digit numbers. We need to find prime numbers $p, q$ so that $M < p, M < q$. This guarantees that $M$ will be relatively prime w.r.t $\\varphi(n)$. Let's choose $p = 735193$ and $q = 875491$."
   ]
  },
  {
   "cell_type": "code",
   "execution_count": 104,
   "metadata": {
    "ExecuteTime": {
     "end_time": "2024-02-06T23:57:58.407068Z",
     "start_time": "2024-02-06T23:57:58.403782Z"
    }
   },
   "outputs": [
    {
     "name": "stdout",
     "output_type": "stream",
     "text": [
      "Public Key: (245071, 643654854763)\n",
      "Private Key: (478235009071, 643654854763)\n"
     ]
    }
   ],
   "source": [
    "(n, e, d) = generate_rsa_keys(735193, 875491)\n",
    "print(f'Public Key: {e, n}')\n",
    "print(f'Private Key: {d, n}')"
   ]
  },
  {
   "cell_type": "code",
   "execution_count": 105,
   "metadata": {
    "ExecuteTime": {
     "end_time": "2024-02-06T23:58:05.137232Z",
     "start_time": "2024-02-06T23:58:05.133973Z"
    }
   },
   "outputs": [],
   "source": [
    "def rsa_encode(msg_list, e, n):\n",
    "    rsa_lst = [modular_exp(M, e, n) for M in msg_list]\n",
    "    return rsa_lst"
   ]
  },
  {
   "cell_type": "code",
   "execution_count": 106,
   "metadata": {
    "ExecuteTime": {
     "end_time": "2024-02-06T23:58:06.395156Z",
     "start_time": "2024-02-06T23:58:06.391003Z"
    }
   },
   "outputs": [
    {
     "name": "stdout",
     "output_type": "stream",
     "text": [
      "Original message:\n",
      "[8404957845, 7597868130, 8846887309, 9434293021, 7365416113, 7574504983, 8707796306, 2089659]\n",
      "Public Key: (245071, 643654854763)\n",
      "RSA encoded\n",
      "[46264071735, 544973177667, 185197985834, 152593409466, 416635991589, 482835244299, 65259378513, 220105851236]\n"
     ]
    }
   ],
   "source": [
    "orig_msg = convert_string_to_numbers('Hello, I have to say something secret!!')\n",
    "print('Original message:')\n",
    "print(orig_msg)\n",
    "print(f'Public Key: {e, n}')\n",
    "msg_rsa = rsa_encode(orig_msg, e, n)\n",
    "print('RSA encoded')\n",
    "print(msg_rsa)"
   ]
  },
  {
   "cell_type": "code",
   "execution_count": 109,
   "metadata": {
    "ExecuteTime": {
     "end_time": "2024-02-06T23:58:54.867760Z",
     "start_time": "2024-02-06T23:58:54.862345Z"
    }
   },
   "outputs": [
    {
     "name": "stdout",
     "output_type": "stream",
     "text": [
      "RSA encoded string is\n"
     ]
    },
    {
     "data": {
      "text/plain": [
       "\"2cLZG>>['u)FAg]=`aFS]ann_98,\\x7f}T(*,4r_X0~\""
      ]
     },
     "execution_count": 109,
     "metadata": {},
     "output_type": "execute_result"
    }
   ],
   "source": [
    "# If we tried to read the encrypted message, we get junk back.\n",
    "print('RSA encoded string is')\n",
    "convert_numbers_to_strings(msg_rsa)\n"
   ]
  },
  {
   "cell_type": "code",
   "execution_count": 110,
   "metadata": {
    "ExecuteTime": {
     "end_time": "2024-02-06T23:59:45.282857Z",
     "start_time": "2024-02-06T23:59:45.277660Z"
    }
   },
   "outputs": [
    {
     "name": "stdout",
     "output_type": "stream",
     "text": [
      "Decrypted message\n",
      "[8404957845, 7597868130, 8846887309, 9434293021, 7365416113, 7574504983, 8707796306, 2089659]\n"
     ]
    },
    {
     "data": {
      "text/plain": [
       "'Hello, I have to say something secret!!'"
      ]
     },
     "execution_count": 110,
     "metadata": {},
     "output_type": "execute_result"
    }
   ],
   "source": [
    "msg_decode = rsa_encode(msg_rsa, d, n)\n",
    "print('Decrypted message')\n",
    "print(msg_decode)\n",
    "convert_numbers_to_strings(msg_decode)"
   ]
  },
  {
   "cell_type": "markdown",
   "metadata": {},
   "source": [
    "## Summary of RSA\n",
    "\n",
    "Note that RSA depends on finding two large prime numbers $p, q$ wherein $n = pq$. \n",
    "We then generate the key by choosing a number $e$ relatively prime with $n$ and $\\varphi(n) = (p-1)(q-1)$.\n",
    "Using extended Euclid's algorithm yields us the decryption key $d$. \n",
    "\n",
    "We reveal $(e, n)$ to the world and keep $(d, n)$ as a secret.\n",
    "\n",
    "We get that a message encrypted with the public key is decrypted with the private key.\n",
    "\n",
    "## Security of RSA\n",
    "\n",
    "The security of a public-key cryptosystem depends on the hardness of finding the secret key just knowing private key. How does RSA fare in this respect?\n",
    "\n",
    "Suppose we known $(e, n)$, can we guess the private key $(d, n)$? As it turns out, this is equivalent to finding the factors $p,q $ of  $n$.\n",
    "  - If we know $p, q$, we can always run through the same process with $e$, the Euclidean GCD algorithm to find $d$.\n",
    "  - If we knew $d$ then, we know that $e \\times d = 1 + v \\varphi(n)$. Therefore, knowing $e, d$, we can find $\\varphi(n) = (p-1)(q-1)$. Knowing $n, \\varphi(n)$, we can find $p, q$.\n",
    "  \n",
    "  \n",
    " \n",
    " \n",
    "<div class=\"alert alert-block alert-warning\">\n",
    " \n",
    " Therefore, breaking RSA security is computationally equivalent to factoring a number $n$ that is known to be the product of two prime numbers. Such numbers are called <i> semi-prime numbers</i>.  We do not know if there is an efficient algorithm to factor semi-prime numbers. Here efficient means an algorithm that runs in time polynomial in the number of bits of $n$\n",
    "</div>\n",
    "\n",
    "Does this mean that no such algorithm exists? This remains an open question in computer science. We know that factoring numbers is a hard problem and 50 years of efforts have not yielded algorithms that are practical on current computers. However, note that there are known efficient algorithms for factoring numbers on a _quantum computer_. In fact, this is the topic we will explore next.\n",
    "\n",
    "## Finding Prime Numbers\n",
    "\n",
    "We will briefly talk about how to find large prime numbers. This involves generating numbers starting from a randomly chosen odd number and testing if the generated numbers are prime. The most practical algorithm for primality testing is called the _Rabin-Miller Primality Test_ It runs very fast but has a small probability of accepting a number as prime when it is actually not a prime. This probability can be made as small as one wishes by repeating the test. The _Aggarwal-Khayal-Saxena_ (AKS) test is a deterministic test that is theoretically efficient and does not rely on randomness. But to our knowledge it is not used in practical implementations of RSA. \n",
    "  \n",
    "  \n"
   ]
  },
  {
   "cell_type": "code",
   "execution_count": null,
   "metadata": {},
   "outputs": [],
   "source": []
  }
 ],
 "metadata": {
  "kernelspec": {
   "display_name": "Python 3",
   "language": "python",
   "name": "python3"
  },
  "language_info": {
   "codemirror_mode": {
    "name": "ipython",
    "version": 3
   },
   "file_extension": ".py",
   "mimetype": "text/x-python",
   "name": "python",
   "nbconvert_exporter": "python",
   "pygments_lexer": "ipython3",
   "version": "3.7.6"
  }
 },
 "nbformat": 4,
 "nbformat_minor": 5
}
